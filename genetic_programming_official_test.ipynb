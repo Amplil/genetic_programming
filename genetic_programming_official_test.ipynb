{
  "nbformat": 4,
  "nbformat_minor": 0,
  "metadata": {
    "colab": {
      "name": "genetic_programming_official_test.ipynb",
      "provenance": [],
      "collapsed_sections": [],
      "mount_file_id": "1XkBLze-qQHDwLgx_BDAalWhVxY9uI2qM",
      "authorship_tag": "ABX9TyNsKOKWGtvF1rKFzGFpLZ8l",
      "include_colab_link": true
    },
    "kernelspec": {
      "name": "python3",
      "display_name": "Python 3"
    },
    "language_info": {
      "name": "python"
    },
    "accelerator": "GPU"
  },
  "cells": [
    {
      "cell_type": "markdown",
      "metadata": {
        "id": "view-in-github",
        "colab_type": "text"
      },
      "source": [
        "<a href=\"https://colab.research.google.com/github/Amplil/genetic_programming/blob/master/genetic_programming_official_test.ipynb\" target=\"_parent\"><img src=\"https://colab.research.google.com/assets/colab-badge.svg\" alt=\"Open In Colab\"/></a>"
      ]
    },
    {
      "cell_type": "code",
      "metadata": {
        "id": "9yiWtz78JU_W"
      },
      "source": [
        "# !pip install --target \"/content/drive/MyDrive/Colab Notebooks/packages\" deap"
      ],
      "execution_count": null,
      "outputs": []
    },
    {
      "cell_type": "code",
      "metadata": {
        "colab": {
          "base_uri": "https://localhost:8080/"
        },
        "id": "dBLs4Rz5hpsh",
        "outputId": "7034c655-932f-43ee-c180-dd0dd88c8ae6"
      },
      "source": [
        "!apt-get install -y graphviz-dev"
      ],
      "execution_count": 4,
      "outputs": [
        {
          "output_type": "stream",
          "text": [
            "Reading package lists... Done\n",
            "Building dependency tree       \n",
            "Reading state information... Done\n",
            "Note, selecting 'libgraphviz-dev' instead of 'graphviz-dev'\n",
            "The following additional packages will be installed:\n",
            "  libgail-common libgail18 libgtk2.0-0 libgtk2.0-bin libgtk2.0-common\n",
            "  libgvc6-plugins-gtk libxdot4\n",
            "Suggested packages:\n",
            "  gvfs\n",
            "The following NEW packages will be installed:\n",
            "  libgail-common libgail18 libgraphviz-dev libgtk2.0-0 libgtk2.0-bin\n",
            "  libgtk2.0-common libgvc6-plugins-gtk libxdot4\n",
            "0 upgraded, 8 newly installed, 0 to remove and 30 not upgraded.\n",
            "Need to get 2,120 kB of archives.\n",
            "After this operation, 7,128 kB of additional disk space will be used.\n",
            "Get:1 http://archive.ubuntu.com/ubuntu bionic/main amd64 libgtk2.0-common all 2.24.32-1ubuntu1 [125 kB]\n",
            "Get:2 http://archive.ubuntu.com/ubuntu bionic/main amd64 libgtk2.0-0 amd64 2.24.32-1ubuntu1 [1,769 kB]\n",
            "Get:3 http://archive.ubuntu.com/ubuntu bionic/main amd64 libgail18 amd64 2.24.32-1ubuntu1 [14.2 kB]\n",
            "Get:4 http://archive.ubuntu.com/ubuntu bionic/main amd64 libgail-common amd64 2.24.32-1ubuntu1 [112 kB]\n",
            "Get:5 http://archive.ubuntu.com/ubuntu bionic/universe amd64 libxdot4 amd64 2.40.1-2 [15.7 kB]\n",
            "Get:6 http://archive.ubuntu.com/ubuntu bionic/universe amd64 libgvc6-plugins-gtk amd64 2.40.1-2 [18.2 kB]\n",
            "Get:7 http://archive.ubuntu.com/ubuntu bionic/universe amd64 libgraphviz-dev amd64 2.40.1-2 [57.3 kB]\n",
            "Get:8 http://archive.ubuntu.com/ubuntu bionic/main amd64 libgtk2.0-bin amd64 2.24.32-1ubuntu1 [7,536 B]\n",
            "Fetched 2,120 kB in 2s (1,275 kB/s)\n",
            "Selecting previously unselected package libgtk2.0-common.\n",
            "(Reading database ... 160980 files and directories currently installed.)\n",
            "Preparing to unpack .../0-libgtk2.0-common_2.24.32-1ubuntu1_all.deb ...\n",
            "Unpacking libgtk2.0-common (2.24.32-1ubuntu1) ...\n",
            "Selecting previously unselected package libgtk2.0-0:amd64.\n",
            "Preparing to unpack .../1-libgtk2.0-0_2.24.32-1ubuntu1_amd64.deb ...\n",
            "Unpacking libgtk2.0-0:amd64 (2.24.32-1ubuntu1) ...\n",
            "Selecting previously unselected package libgail18:amd64.\n",
            "Preparing to unpack .../2-libgail18_2.24.32-1ubuntu1_amd64.deb ...\n",
            "Unpacking libgail18:amd64 (2.24.32-1ubuntu1) ...\n",
            "Selecting previously unselected package libgail-common:amd64.\n",
            "Preparing to unpack .../3-libgail-common_2.24.32-1ubuntu1_amd64.deb ...\n",
            "Unpacking libgail-common:amd64 (2.24.32-1ubuntu1) ...\n",
            "Selecting previously unselected package libxdot4.\n",
            "Preparing to unpack .../4-libxdot4_2.40.1-2_amd64.deb ...\n",
            "Unpacking libxdot4 (2.40.1-2) ...\n",
            "Selecting previously unselected package libgvc6-plugins-gtk.\n",
            "Preparing to unpack .../5-libgvc6-plugins-gtk_2.40.1-2_amd64.deb ...\n",
            "Unpacking libgvc6-plugins-gtk (2.40.1-2) ...\n",
            "Selecting previously unselected package libgraphviz-dev.\n",
            "Preparing to unpack .../6-libgraphviz-dev_2.40.1-2_amd64.deb ...\n",
            "Unpacking libgraphviz-dev (2.40.1-2) ...\n",
            "Selecting previously unselected package libgtk2.0-bin.\n",
            "Preparing to unpack .../7-libgtk2.0-bin_2.24.32-1ubuntu1_amd64.deb ...\n",
            "Unpacking libgtk2.0-bin (2.24.32-1ubuntu1) ...\n",
            "Setting up libgtk2.0-common (2.24.32-1ubuntu1) ...\n",
            "Setting up libxdot4 (2.40.1-2) ...\n",
            "Setting up libgtk2.0-0:amd64 (2.24.32-1ubuntu1) ...\n",
            "Setting up libgail18:amd64 (2.24.32-1ubuntu1) ...\n",
            "Setting up libgail-common:amd64 (2.24.32-1ubuntu1) ...\n",
            "Setting up libgvc6-plugins-gtk (2.40.1-2) ...\n",
            "Setting up libgraphviz-dev (2.40.1-2) ...\n",
            "Setting up libgtk2.0-bin (2.24.32-1ubuntu1) ...\n",
            "Processing triggers for man-db (2.8.3-2ubuntu0.1) ...\n",
            "Processing triggers for libc-bin (2.27-3ubuntu1.2) ...\n",
            "/sbin/ldconfig.real: /usr/local/lib/python3.7/dist-packages/ideep4py/lib/libmkldnn.so.0 is not a symbolic link\n",
            "\n"
          ],
          "name": "stdout"
        }
      ]
    },
    {
      "cell_type": "code",
      "metadata": {
        "colab": {
          "base_uri": "https://localhost:8080/"
        },
        "id": "yiaDdOG620J_",
        "outputId": "a970dc69-5738-42be-c5f1-4db8839f7b57"
      },
      "source": [
        "!pip install --target \"/content/drive/MyDrive/Colab Notebooks/packages\" pygraphviz"
      ],
      "execution_count": 7,
      "outputs": [
        {
          "output_type": "stream",
          "text": [
            "Collecting pygraphviz\n",
            "  Using cached https://files.pythonhosted.org/packages/3a/d6/2c56f09ee83dbebb62c40487e4c972135661b9984fec9b30b77fb497090c/pygraphviz-1.7.zip\n",
            "Building wheels for collected packages: pygraphviz\n",
            "  Building wheel for pygraphviz (setup.py) ... \u001b[?25l\u001b[?25hdone\n",
            "  Created wheel for pygraphviz: filename=pygraphviz-1.7-cp37-cp37m-linux_x86_64.whl size=166115 sha256=64771461a39bc4fd1796daef7f3adaccabb7fa6f73de91cf73ddccfa0a57194a\n",
            "  Stored in directory: /root/.cache/pip/wheels/32/59/00/14934a4292c4359eeabcdbf90f33d309b55d0f1be8a1262523\n",
            "Successfully built pygraphviz\n",
            "Installing collected packages: pygraphviz\n",
            "Successfully installed pygraphviz-1.7\n"
          ],
          "name": "stdout"
        }
      ]
    },
    {
      "cell_type": "code",
      "metadata": {
        "id": "A0Bi24O4JJJe"
      },
      "source": [
        "import sys\n",
        "sys.path.append(\"/content/drive/MyDrive/Colab Notebooks/packages\")"
      ],
      "execution_count": 5,
      "outputs": []
    },
    {
      "cell_type": "code",
      "metadata": {
        "id": "9h0G1SvUIbFe"
      },
      "source": [
        "import operator, math, random, time\n",
        "import numpy as np\n",
        "\n",
        "from deap import algorithms, base, creator, tools, gp\n",
        "\n",
        "from sklearn.datasets import make_classification\n",
        "from sklearn.model_selection import train_test_split, cross_val_score\n",
        "from sklearn.linear_model import LogisticRegression\n",
        "from sklearn.metrics import roc_auc_score, log_loss\n",
        "\n",
        "import matplotlib.pyplot as plt\n",
        "\n",
        "### Graphviz Section ###\n",
        "import pygraphviz as pgv"
      ],
      "execution_count": 8,
      "outputs": []
    },
    {
      "cell_type": "markdown",
      "metadata": {
        "id": "eo1w71DVt3J_"
      },
      "source": [
        "# [公式ドキュメントGenetic Programming](https://deap.readthedocs.io/en/master/tutorials/advanced/gp.html)のテスト"
      ]
    },
    {
      "cell_type": "code",
      "metadata": {
        "id": "QJ_FzFZ8uNsZ"
      },
      "source": [
        "pset = gp.PrimitiveSet(\"main\", 2)\n",
        "pset.addPrimitive(max, 2)\n",
        "pset.addPrimitive(operator.add, 2)\n",
        "pset.addPrimitive(operator.mul, 2)\n",
        "pset.addTerminal(3)"
      ],
      "execution_count": 9,
      "outputs": []
    },
    {
      "cell_type": "code",
      "metadata": {
        "id": "HUp51lK7ve7J"
      },
      "source": [
        "pset.renameArguments(ARG0=\"x\")\n",
        "pset.renameArguments(ARG1=\"y\")"
      ],
      "execution_count": 10,
      "outputs": []
    },
    {
      "cell_type": "code",
      "metadata": {
        "id": "UT0mqXXfv8bH"
      },
      "source": [
        "pset.addPrimitive(operator.neg, 1)"
      ],
      "execution_count": 11,
      "outputs": []
    },
    {
      "cell_type": "code",
      "metadata": {
        "id": "_PCsWfUU0qEO"
      },
      "source": [
        "expr = gp.genFull(pset, min_=1, max_=3)\n",
        "tree = gp.PrimitiveTree(expr)"
      ],
      "execution_count": 12,
      "outputs": []
    },
    {
      "cell_type": "code",
      "metadata": {
        "colab": {
          "base_uri": "https://localhost:8080/"
        },
        "id": "Yk7Q7PUX08Iw",
        "outputId": "0f247670-c607-49a0-a8f1-565fa9d8d3db"
      },
      "source": [
        "tree"
      ],
      "execution_count": 13,
      "outputs": [
        {
          "output_type": "execute_result",
          "data": {
            "text/plain": [
              "[<deap.gp.Primitive at 0x7f8dae08ab90>,\n",
              " <deap.gp.Primitive at 0x7f8dae095590>,\n",
              " <deap.gp.Terminal at 0x7f8dae08fd70>,\n",
              " <deap.gp.Primitive at 0x7f8dae095590>,\n",
              " <deap.gp.Terminal at 0x7f8dae08e050>]"
            ]
          },
          "metadata": {
            "tags": []
          },
          "execution_count": 13
        }
      ]
    },
    {
      "cell_type": "code",
      "metadata": {
        "id": "d17Zpw712LCH"
      },
      "source": [
        "pset = gp.PrimitiveSet(\"MAIN\", 1)\n",
        "pset.addPrimitive(operator.add, 2)\n",
        "pset.addPrimitive(operator.sub, 2)\n",
        "pset.addPrimitive(operator.mul, 2)\n",
        "pset.renameArguments(ARG0='x')\n",
        "\n",
        "creator.create(\"Individual\", gp.PrimitiveTree)\n",
        "\n",
        "toolbox = base.Toolbox()\n",
        "toolbox.register(\"expr\", gp.genHalfAndHalf, pset=pset, min_=1, max_=2)\n",
        "toolbox.register(\"individual\", tools.initIterate, creator.Individual, toolbox.expr)\n",
        "\n",
        "expr = toolbox.individual()\n",
        "nodes, edges, labels = gp.graph(expr)\n",
        "\n",
        "\n",
        "\n",
        "g = pgv.AGraph()\n",
        "g.add_nodes_from(nodes)\n",
        "g.add_edges_from(edges)\n",
        "g.layout(prog=\"dot\")\n",
        "\n",
        "for i in nodes:\n",
        "    n = g.get_node(i)\n",
        "    n.attr[\"label\"] = labels[i]\n",
        "\n",
        "g.draw(\"tree.pdf\")"
      ],
      "execution_count": 14,
      "outputs": []
    },
    {
      "cell_type": "code",
      "metadata": {
        "id": "diqLOhdsiOkJ"
      },
      "source": [
        "g.draw(\"tree.pdf\")"
      ],
      "execution_count": 20,
      "outputs": []
    },
    {
      "cell_type": "code",
      "metadata": {
        "colab": {
          "base_uri": "https://localhost:8080/",
          "height": 17
        },
        "id": "QUVBm4ZtjRVa",
        "outputId": "e62cd827-7479-4123-d979-757798f5cdc7"
      },
      "source": [
        "from IPython.display import display_pdf\n",
        "filename = \"tree.pdf\"\n",
        "with open(filename,\"rb\") as f:\n",
        "    display_pdf(f.read(),raw=True)"
      ],
      "execution_count": 19,
      "outputs": [
        {
          "output_type": "display_data",
          "data": {
            "application/pdf": "[encoded data removed]"
          },
          "metadata": {
            "tags": []
          }
        }
      ]
    },
    {
      "cell_type": "code",
      "metadata": {
        "id": "HOr6fPdgI_X-"
      },
      "source": [
        "# ベースラインスコアの算出\n",
        "clf = LogisticRegression(penalty=\"l2\", C=1.0)\n",
        "base_train_auc = np.mean(cross_val_score(clf, X_train, y_train, scoring=\"roc_auc\", cv=5))\n",
        "clf.fit(X_train, y_train)\n",
        "base_test_auc = roc_auc_score(y_test, clf.predict_proba(X_test)[:,1])\n",
        "\n",
        "# 除算関数の定義\n",
        "# 左項 / 右項で右項が0の場合1を代入する\n",
        "def protectedDiv(left, right):\n",
        "    eps = 1.0e-7\n",
        "    tmp = np.zeros(len(left))\n",
        "    tmp[np.abs(right) >= eps] = left[np.abs(right) >= eps] / right[np.abs(right) >= eps]\n",
        "    tmp[np.abs(right) < eps] = 1.0\n",
        "    return tmp\n",
        "\n",
        "\n",
        "# 乱数シード\n",
        "random.seed(123)\n",
        "\n",
        "# 適合度を最大化するような木構造を個体として定義\n",
        "creator.create(\"FitnessMax\", base.Fitness, weights=(1.0,))\n",
        "creator.create(\"Individual\", gp.PrimitiveTree, fitness=creator.FitnessMax)\n",
        "\n",
        "# 初期値の計算\n",
        "# 学習データの5-fold CVのAUCスコアを評価指標の初期値とする\n",
        "n_features = X_train.shape[1]\n",
        "clf = LogisticRegression(penalty=\"l2\", C=1.0)\n",
        "prev_auc = np.mean(cross_val_score(clf, X_train, y_train, scoring=\"roc_auc\", cv=5))"
      ],
      "execution_count": null,
      "outputs": []
    },
    {
      "cell_type": "code",
      "metadata": {
        "colab": {
          "base_uri": "https://localhost:8080/"
        },
        "id": "pARcRyPFXg9o",
        "outputId": "76d79d5e-e80e-451b-c824-75eb5767c256"
      },
      "source": [
        "tmp_test=np.zeros(5)\n",
        "tmp_test"
      ],
      "execution_count": null,
      "outputs": [
        {
          "output_type": "execute_result",
          "data": {
            "text/plain": [
              "array([0., 0., 0., 0., 0.])"
            ]
          },
          "metadata": {
            "tags": []
          },
          "execution_count": 11
        }
      ]
    },
    {
      "cell_type": "code",
      "metadata": {
        "colab": {
          "base_uri": "https://localhost:8080/"
        },
        "id": "WRadx-sqaJVo",
        "outputId": "7d4ca50a-dc5f-4798-d4fc-5898b6cb15b5"
      },
      "source": [
        "np.abs([3,-5,1,-2,6])>=2"
      ],
      "execution_count": null,
      "outputs": [
        {
          "output_type": "execute_result",
          "data": {
            "text/plain": [
              "array([ True,  True, False,  True,  True])"
            ]
          },
          "metadata": {
            "tags": []
          },
          "execution_count": 12
        }
      ]
    },
    {
      "cell_type": "code",
      "metadata": {
        "colab": {
          "base_uri": "https://localhost:8080/"
        },
        "id": "0cVlnrJXbLqC",
        "outputId": "6eafc213-2abd-4fed-933c-d77667a4d439"
      },
      "source": [
        "np.array([5,7,-9,-4,6])/np.array([3,1,7,4,2])"
      ],
      "execution_count": null,
      "outputs": [
        {
          "output_type": "execute_result",
          "data": {
            "text/plain": [
              "array([ 1.66666667,  7.        , -1.28571429, -1.        ,  3.        ])"
            ]
          },
          "metadata": {
            "tags": []
          },
          "execution_count": 13
        }
      ]
    },
    {
      "cell_type": "code",
      "metadata": {
        "colab": {
          "base_uri": "https://localhost:8080/"
        },
        "id": "7fLA1vXrcYIH",
        "outputId": "eb72052c-fb64-49b2-d1d8-78135bbfe2dc"
      },
      "source": [
        "np.array([3,1,7,4,2])[np.abs([3,-5,1,-2,6])>=2]"
      ],
      "execution_count": null,
      "outputs": [
        {
          "output_type": "execute_result",
          "data": {
            "text/plain": [
              "array([3, 1, 4, 2])"
            ]
          },
          "metadata": {
            "tags": []
          },
          "execution_count": 14
        }
      ]
    },
    {
      "cell_type": "code",
      "metadata": {
        "colab": {
          "base_uri": "https://localhost:8080/"
        },
        "id": "6RjTv9kcXWUZ",
        "outputId": "cbbab69a-ea57-44b6-c9ee-3352df523da1"
      },
      "source": [
        "cross_val_score(clf, X_train, y_train, scoring=\"roc_auc\", cv=5)"
      ],
      "execution_count": null,
      "outputs": [
        {
          "output_type": "execute_result",
          "data": {
            "text/plain": [
              "array([0.72582054, 0.72766905, 0.76705809, 0.73868823, 0.74681701])"
            ]
          },
          "metadata": {
            "tags": []
          },
          "execution_count": 15
        }
      ]
    },
    {
      "cell_type": "code",
      "metadata": {
        "colab": {
          "base_uri": "https://localhost:8080/"
        },
        "id": "i_pJ9K6UXQlx",
        "outputId": "0268c5e0-3c7b-4ff2-d988-1dbbae1acdf1"
      },
      "source": [
        "prev_auc"
      ],
      "execution_count": null,
      "outputs": [
        {
          "output_type": "execute_result",
          "data": {
            "text/plain": [
              "0.7412105832218736"
            ]
          },
          "metadata": {
            "tags": []
          },
          "execution_count": 16
        }
      ]
    },
    {
      "cell_type": "code",
      "metadata": {
        "colab": {
          "base_uri": "https://localhost:8080/"
        },
        "id": "Xf4wP31AW7j-",
        "outputId": "49ef7353-6077-4295-d602-723d74120630"
      },
      "source": [
        "# メインループ\n",
        "# resultsに特徴量数、学習データのAUCスコア（5-fold CV）、テストデータのAUCスコアを保持する\n",
        "# exprsに生成された特徴量の表記を保持する\n",
        "results = []\n",
        "exprs = []\n",
        "for i in range(100):\n",
        "    # 構文木として利用可能な演算の定義\n",
        "    pset = gp.PrimitiveSet(\"MAIN\", n_features)\n",
        "    pset.addPrimitive(operator.add, 2)\n",
        "    pset.addPrimitive(operator.sub, 2)\n",
        "    pset.addPrimitive(operator.mul, 2)\n",
        "    pset.addPrimitive(protectedDiv, 2)\n",
        "    pset.addPrimitive(operator.neg, 1)\n",
        "    pset.addPrimitive(np.cos, 1)\n",
        "    pset.addPrimitive(np.sin, 1)\n",
        "    pset.addPrimitive(np.tan, 1)\n",
        "\n",
        "    # 関数のデフォルト値の設定\n",
        "    toolbox = base.Toolbox()\n",
        "    toolbox.register(\"expr\", gp.genHalfAndHalf, pset=pset, min_=1, max_=3)\n",
        "    toolbox.register(\"individual\", tools.initIterate, creator.Individual, toolbox.expr)\n",
        "    toolbox.register(\"population\", tools.initRepeat, list, toolbox.individual)\n",
        "    toolbox.register(\"compile\", gp.compile, pset=pset)\n",
        "\n",
        "    # 評価関数の設定\n",
        "    # 新しく生成した変数を元の変数に加えて5-fold CVを求める\n",
        "    def eval_genfeat(individual):\n",
        "        func = toolbox.compile(expr=individual)\n",
        "        features_train = [X_train[:,i] for i in range(n_features)]\n",
        "        new_feat_train = func(*features_train)\n",
        "        X_train_tmp = np.c_[X_train, new_feat_train]\n",
        "        return np.mean(cross_val_score(clf, X_train_tmp, y_train, scoring=\"roc_auc\", cv=5)),\n",
        "\n",
        "    # 評価、選択、交叉、突然変異の設定\n",
        "    # 選択はサイズ10のトーナメント方式、交叉は1点交叉、突然変異は深さ2のランダム構文木生成と定義\n",
        "    toolbox.register(\"evaluate\", eval_genfeat)\n",
        "    toolbox.register(\"select\", tools.selTournament, tournsize=10)\n",
        "    toolbox.register(\"mate\", gp.cxOnePoint)\n",
        "    toolbox.register(\"expr_mut\", gp.genFull, min_=0, max_=2)\n",
        "    toolbox.register(\"mutate\", gp.mutUniform, expr=toolbox.expr_mut, pset=pset)\n",
        "\n",
        "    # 構文木の制約の設定\n",
        "    # 交叉や突然変異で深さ5以上の木ができないようにする\n",
        "    toolbox.decorate(\"mate\", gp.staticLimit(key=operator.attrgetter(\"height\"), max_value=5))\n",
        "    toolbox.decorate(\"mutate\", gp.staticLimit(key=operator.attrgetter(\"height\"), max_value=5)) \n",
        "\n",
        "    # 世代ごとの個体とベスト解を保持するクラスの生成\n",
        "    pop = toolbox.population(n=300)\n",
        "    hof = tools.HallOfFame(1)\n",
        "\n",
        "    # 統計量の表示設定\n",
        "    stats_fit = tools.Statistics(lambda ind: ind.fitness.values)\n",
        "    stats_size = tools.Statistics(len)\n",
        "    mstats = tools.MultiStatistics(fitness=stats_fit, size=stats_size)\n",
        "    mstats.register(\"avg\", np.mean)\n",
        "    mstats.register(\"std\", np.std)\n",
        "    mstats.register(\"min\", np.min)\n",
        "    mstats.register(\"max\", np.max)\n",
        "\n",
        "    # 進化の実行\n",
        "    # 交叉確率50%、突然変異確率10%、10世代まで進化\n",
        "    start_time = time.time()\n",
        "    pop, log = algorithms.eaSimple(pop, toolbox, 0.5, 0.1, 10, stats=mstats, halloffame=hof, verbose=True)\n",
        "    end_time = time.time()\n",
        "\n",
        "    # ベスト解とAUCの保持\n",
        "    best_expr = hof[0]\n",
        "    best_auc = mstats.compile(pop)[\"fitness\"][\"max\"]\n",
        "\n",
        "    # 5-fold CVのAUCスコアが前ステップのAUCを超えていた場合\n",
        "    # 生成変数を学習、テストデータに追加し、ベストAUCを更新する\n",
        "    if prev_auc < best_auc:\n",
        "        # 生成変数の追加\n",
        "        func = toolbox.compile(expr=best_expr)\n",
        "        features_train = [X_train[:,i] for i in range(n_features)]\n",
        "        features_test = [X_test[:,i] for i in range(n_features)]\n",
        "        new_feat_train = func(*features_train)\n",
        "        new_feat_test = func(*features_test)\n",
        "        X_train = np.c_[X_train, new_feat_train]\n",
        "        X_test = np.c_[X_test, new_feat_test]\n",
        "\n",
        "        ### テストAUCの計算（プロット用）\n",
        "        clf.fit(X_train, y_train)\n",
        "        train_auc = roc_auc_score(y_train, clf.predict_proba(X_train)[:,1])\n",
        "        test_auc = roc_auc_score(y_test, clf.predict_proba(X_test)[:,1])\n",
        "\n",
        "        # ベストAUCの更新と特徴量数の加算\n",
        "        prev_auc = best_auc\n",
        "        n_features += 1\n",
        "\n",
        "        # 表示と出力用データの保持\n",
        "        print(n_features, best_auc, train_auc, test_auc, end_time - start_time)\n",
        "        results.append([n_features, best_auc, train_auc, test_auc])\n",
        "        exprs.append(best_expr)\n",
        "\n",
        "        # 変数追加後の特徴量数が30を超えた場合break\n",
        "        if n_features >= 30:\n",
        "            break"
      ],
      "execution_count": null,
      "outputs": [
        {
          "output_type": "stream",
          "text": [
            "/usr/local/lib/python3.7/dist-packages/sklearn/linear_model/_logistic.py:940: ConvergenceWarning: lbfgs failed to converge (status=1):\n",
            "STOP: TOTAL NO. of ITERATIONS REACHED LIMIT.\n",
            "\n",
            "Increase the number of iterations (max_iter) or scale the data as shown in:\n",
            "    https://scikit-learn.org/stable/modules/preprocessing.html\n",
            "Please also refer to the documentation for alternative solver options:\n",
            "    https://scikit-learn.org/stable/modules/linear_model.html#logistic-regression\n",
            "  extra_warning_msg=_LOGISTIC_SOLVER_CONVERGENCE_MSG)\n",
            "/usr/local/lib/python3.7/dist-packages/sklearn/linear_model/_logistic.py:940: ConvergenceWarning: lbfgs failed to converge (status=1):\n",
            "STOP: TOTAL NO. of ITERATIONS REACHED LIMIT.\n",
            "\n",
            "Increase the number of iterations (max_iter) or scale the data as shown in:\n",
            "    https://scikit-learn.org/stable/modules/preprocessing.html\n",
            "Please also refer to the documentation for alternative solver options:\n",
            "    https://scikit-learn.org/stable/modules/linear_model.html#logistic-regression\n",
            "  extra_warning_msg=_LOGISTIC_SOLVER_CONVERGENCE_MSG)\n"
          ],
          "name": "stderr"
        },
        {
          "output_type": "stream",
          "text": [
            "   \t      \t                             fitness                             \t                      size                     \n",
            "   \t      \t-----------------------------------------------------------------\t-----------------------------------------------\n",
            "gen\tnevals\tavg     \tgen\tmax    \tmin     \tnevals\tstd      \tavg    \tgen\tmax\tmin\tnevals\tstd    \n",
            "0  \t300   \t0.740659\t0  \t0.75247\t0.548102\t300   \t0.0111754\t4.52667\t0  \t14 \t2  \t300   \t2.84182\n",
            "1  \t152   \t0.742851\t1  \t0.766925\t0.740916\t152   \t0.00315129\t4.35333\t1  \t13 \t1  \t152   \t2.56161\n",
            "2  \t172   \t0.746171\t2  \t0.771261\t0.740541\t172   \t0.00573021\t4.88   \t2  \t16 \t1  \t172   \t2.71274\n",
            "3  \t163   \t0.751836\t3  \t0.773649\t0.739993\t163   \t0.00891701\t5.95667\t3  \t15 \t1  \t163   \t3.17828\n",
            "4  \t166   \t0.758409\t4  \t0.78362 \t0.740691\t166   \t0.0118941 \t8.06   \t4  \t18 \t1  \t166   \t3.46935\n",
            "5  \t171   \t0.763094\t5  \t0.797083\t0.740691\t171   \t0.0133726 \t8.46333\t5  \t16 \t3  \t171   \t3.00144\n",
            "6  \t166   \t0.768653\t6  \t0.797083\t0.740769\t166   \t0.0141325 \t10.89  \t6  \t17 \t3  \t166   \t2.37443\n",
            "7  \t172   \t0.771863\t7  \t0.802758\t0.739451\t172   \t0.018502  \t11.4033\t7  \t20 \t1  \t172   \t2.56788\n",
            "8  \t154   \t0.779113\t8  \t0.804026\t0.740525\t154   \t0.0203953 \t11.1133\t8  \t19 \t1  \t154   \t2.20011\n",
            "9  \t155   \t0.780564\t9  \t0.807743\t0.740811\t155   \t0.0224013 \t11.3967\t9  \t19 \t6  \t155   \t1.63074\n",
            "10 \t156   \t0.784115\t10 \t0.807743\t0.740947\t156   \t0.0224839 \t12.1767\t10 \t19 \t1  \t156   \t2.47631\n",
            "11 0.8077430812752056 0.8088788001293055 0.7991533330130053 229.52831196784973\n"
          ],
          "name": "stdout"
        },
        {
          "output_type": "stream",
          "text": [
            "/usr/local/lib/python3.7/dist-packages/sklearn/linear_model/_logistic.py:940: ConvergenceWarning: lbfgs failed to converge (status=1):\n",
            "STOP: TOTAL NO. of ITERATIONS REACHED LIMIT.\n",
            "\n",
            "Increase the number of iterations (max_iter) or scale the data as shown in:\n",
            "    https://scikit-learn.org/stable/modules/preprocessing.html\n",
            "Please also refer to the documentation for alternative solver options:\n",
            "    https://scikit-learn.org/stable/modules/linear_model.html#logistic-regression\n",
            "  extra_warning_msg=_LOGISTIC_SOLVER_CONVERGENCE_MSG)\n",
            "/usr/local/lib/python3.7/dist-packages/sklearn/linear_model/_logistic.py:940: ConvergenceWarning: lbfgs failed to converge (status=1):\n",
            "STOP: TOTAL NO. of ITERATIONS REACHED LIMIT.\n",
            "\n",
            "Increase the number of iterations (max_iter) or scale the data as shown in:\n",
            "    https://scikit-learn.org/stable/modules/preprocessing.html\n",
            "Please also refer to the documentation for alternative solver options:\n",
            "    https://scikit-learn.org/stable/modules/linear_model.html#logistic-regression\n",
            "  extra_warning_msg=_LOGISTIC_SOLVER_CONVERGENCE_MSG)\n",
            "/usr/local/lib/python3.7/dist-packages/sklearn/linear_model/_logistic.py:940: ConvergenceWarning: lbfgs failed to converge (status=1):\n",
            "STOP: TOTAL NO. of ITERATIONS REACHED LIMIT.\n",
            "\n",
            "Increase the number of iterations (max_iter) or scale the data as shown in:\n",
            "    https://scikit-learn.org/stable/modules/preprocessing.html\n",
            "Please also refer to the documentation for alternative solver options:\n",
            "    https://scikit-learn.org/stable/modules/linear_model.html#logistic-regression\n",
            "  extra_warning_msg=_LOGISTIC_SOLVER_CONVERGENCE_MSG)\n",
            "/usr/local/lib/python3.7/dist-packages/sklearn/linear_model/_logistic.py:940: ConvergenceWarning: lbfgs failed to converge (status=1):\n",
            "STOP: TOTAL NO. of ITERATIONS REACHED LIMIT.\n",
            "\n",
            "Increase the number of iterations (max_iter) or scale the data as shown in:\n",
            "    https://scikit-learn.org/stable/modules/preprocessing.html\n",
            "Please also refer to the documentation for alternative solver options:\n",
            "    https://scikit-learn.org/stable/modules/linear_model.html#logistic-regression\n",
            "  extra_warning_msg=_LOGISTIC_SOLVER_CONVERGENCE_MSG)\n",
            "/usr/local/lib/python3.7/dist-packages/sklearn/linear_model/_logistic.py:940: ConvergenceWarning: lbfgs failed to converge (status=1):\n",
            "STOP: TOTAL NO. of ITERATIONS REACHED LIMIT.\n",
            "\n",
            "Increase the number of iterations (max_iter) or scale the data as shown in:\n",
            "    https://scikit-learn.org/stable/modules/preprocessing.html\n",
            "Please also refer to the documentation for alternative solver options:\n",
            "    https://scikit-learn.org/stable/modules/linear_model.html#logistic-regression\n",
            "  extra_warning_msg=_LOGISTIC_SOLVER_CONVERGENCE_MSG)\n",
            "/usr/local/lib/python3.7/dist-packages/sklearn/linear_model/_logistic.py:940: ConvergenceWarning: lbfgs failed to converge (status=1):\n",
            "STOP: TOTAL NO. of ITERATIONS REACHED LIMIT.\n",
            "\n",
            "Increase the number of iterations (max_iter) or scale the data as shown in:\n",
            "    https://scikit-learn.org/stable/modules/preprocessing.html\n",
            "Please also refer to the documentation for alternative solver options:\n",
            "    https://scikit-learn.org/stable/modules/linear_model.html#logistic-regression\n",
            "  extra_warning_msg=_LOGISTIC_SOLVER_CONVERGENCE_MSG)\n",
            "/usr/local/lib/python3.7/dist-packages/sklearn/linear_model/_logistic.py:940: ConvergenceWarning: lbfgs failed to converge (status=1):\n",
            "STOP: TOTAL NO. of ITERATIONS REACHED LIMIT.\n",
            "\n",
            "Increase the number of iterations (max_iter) or scale the data as shown in:\n",
            "    https://scikit-learn.org/stable/modules/preprocessing.html\n",
            "Please also refer to the documentation for alternative solver options:\n",
            "    https://scikit-learn.org/stable/modules/linear_model.html#logistic-regression\n",
            "  extra_warning_msg=_LOGISTIC_SOLVER_CONVERGENCE_MSG)\n",
            "/usr/local/lib/python3.7/dist-packages/sklearn/linear_model/_logistic.py:940: ConvergenceWarning: lbfgs failed to converge (status=1):\n",
            "STOP: TOTAL NO. of ITERATIONS REACHED LIMIT.\n",
            "\n",
            "Increase the number of iterations (max_iter) or scale the data as shown in:\n",
            "    https://scikit-learn.org/stable/modules/preprocessing.html\n",
            "Please also refer to the documentation for alternative solver options:\n",
            "    https://scikit-learn.org/stable/modules/linear_model.html#logistic-regression\n",
            "  extra_warning_msg=_LOGISTIC_SOLVER_CONVERGENCE_MSG)\n",
            "/usr/local/lib/python3.7/dist-packages/sklearn/linear_model/_logistic.py:940: ConvergenceWarning: lbfgs failed to converge (status=1):\n",
            "STOP: TOTAL NO. of ITERATIONS REACHED LIMIT.\n",
            "\n",
            "Increase the number of iterations (max_iter) or scale the data as shown in:\n",
            "    https://scikit-learn.org/stable/modules/preprocessing.html\n",
            "Please also refer to the documentation for alternative solver options:\n",
            "    https://scikit-learn.org/stable/modules/linear_model.html#logistic-regression\n",
            "  extra_warning_msg=_LOGISTIC_SOLVER_CONVERGENCE_MSG)\n",
            "/usr/local/lib/python3.7/dist-packages/sklearn/linear_model/_logistic.py:940: ConvergenceWarning: lbfgs failed to converge (status=1):\n",
            "STOP: TOTAL NO. of ITERATIONS REACHED LIMIT.\n",
            "\n",
            "Increase the number of iterations (max_iter) or scale the data as shown in:\n",
            "    https://scikit-learn.org/stable/modules/preprocessing.html\n",
            "Please also refer to the documentation for alternative solver options:\n",
            "    https://scikit-learn.org/stable/modules/linear_model.html#logistic-regression\n",
            "  extra_warning_msg=_LOGISTIC_SOLVER_CONVERGENCE_MSG)\n",
            "/usr/local/lib/python3.7/dist-packages/sklearn/linear_model/_logistic.py:940: ConvergenceWarning: lbfgs failed to converge (status=1):\n",
            "STOP: TOTAL NO. of ITERATIONS REACHED LIMIT.\n",
            "\n",
            "Increase the number of iterations (max_iter) or scale the data as shown in:\n",
            "    https://scikit-learn.org/stable/modules/preprocessing.html\n",
            "Please also refer to the documentation for alternative solver options:\n",
            "    https://scikit-learn.org/stable/modules/linear_model.html#logistic-regression\n",
            "  extra_warning_msg=_LOGISTIC_SOLVER_CONVERGENCE_MSG)\n"
          ],
          "name": "stderr"
        },
        {
          "output_type": "stream",
          "text": [
            "   \t      \t                             fitness                              \t                      size                     \n",
            "   \t      \t------------------------------------------------------------------\t-----------------------------------------------\n",
            "gen\tnevals\tavg     \tgen\tmax     \tmin    \tnevals\tstd       \tavg    \tgen\tmax\tmin\tnevals\tstd    \n",
            "0  \t300   \t0.807755\t0  \t0.812232\t0.80619\t300   \t0.00055741\t4.26667\t0  \t14 \t2  \t300   \t2.59529\n",
            "1  \t175   \t0.808355\t1  \t0.812232\t0.807271\t175   \t0.0011135 \t3.96667\t1  \t14 \t2  \t175   \t2.25512\n"
          ],
          "name": "stdout"
        },
        {
          "output_type": "stream",
          "text": [
            "/usr/local/lib/python3.7/dist-packages/sklearn/linear_model/_logistic.py:940: ConvergenceWarning: lbfgs failed to converge (status=1):\n",
            "STOP: TOTAL NO. of ITERATIONS REACHED LIMIT.\n",
            "\n",
            "Increase the number of iterations (max_iter) or scale the data as shown in:\n",
            "    https://scikit-learn.org/stable/modules/preprocessing.html\n",
            "Please also refer to the documentation for alternative solver options:\n",
            "    https://scikit-learn.org/stable/modules/linear_model.html#logistic-regression\n",
            "  extra_warning_msg=_LOGISTIC_SOLVER_CONVERGENCE_MSG)\n",
            "/usr/local/lib/python3.7/dist-packages/sklearn/linear_model/_logistic.py:940: ConvergenceWarning: lbfgs failed to converge (status=1):\n",
            "STOP: TOTAL NO. of ITERATIONS REACHED LIMIT.\n",
            "\n",
            "Increase the number of iterations (max_iter) or scale the data as shown in:\n",
            "    https://scikit-learn.org/stable/modules/preprocessing.html\n",
            "Please also refer to the documentation for alternative solver options:\n",
            "    https://scikit-learn.org/stable/modules/linear_model.html#logistic-regression\n",
            "  extra_warning_msg=_LOGISTIC_SOLVER_CONVERGENCE_MSG)\n",
            "/usr/local/lib/python3.7/dist-packages/sklearn/linear_model/_logistic.py:940: ConvergenceWarning: lbfgs failed to converge (status=1):\n",
            "STOP: TOTAL NO. of ITERATIONS REACHED LIMIT.\n",
            "\n",
            "Increase the number of iterations (max_iter) or scale the data as shown in:\n",
            "    https://scikit-learn.org/stable/modules/preprocessing.html\n",
            "Please also refer to the documentation for alternative solver options:\n",
            "    https://scikit-learn.org/stable/modules/linear_model.html#logistic-regression\n",
            "  extra_warning_msg=_LOGISTIC_SOLVER_CONVERGENCE_MSG)\n"
          ],
          "name": "stderr"
        },
        {
          "output_type": "stream",
          "text": [
            "2  \t171   \t0.809594\t2  \t0.812373\t0.807292\t171   \t0.00171166\t3.50333\t2  \t8  \t1  \t171   \t1.39403\n"
          ],
          "name": "stdout"
        }
      ]
    },
    {
      "cell_type": "code",
      "metadata": {
        "id": "UYJk-xcPJfl3"
      },
      "source": [
        "# 結果の出力\n",
        "print()\n",
        "print(\"### Results\")\n",
        "print(\"Baseline AUC train :\", base_train_auc)\n",
        "print(\"Baseline AUC test :\", base_test_auc)\n",
        "print(\"Best AUC train :\", results[-1][1])\n",
        "print(\"Best AUC test :\", results[-1][3])\n",
        "\n",
        "# 結果のプロット\n",
        "res = np.array(results)\n",
        "plt.plot(res[:,0], res[:,1],\"o-\", color=\"b\", label=\"train(5-fold CV)\")\n",
        "plt.plot(res[:,0], res[:,3],\"o-\", color=\"r\", label=\"test\")\n",
        "plt.plot(10, base_train_auc, \"d\", color=\"b\", label = \"train baseline(5-fold CV)\")\n",
        "plt.plot(10, base_test_auc, \"d\", color=\"r\", label = \"test baseline\")\n",
        "plt.xlim(9,31)\n",
        "plt.grid(which=\"both\")\n",
        "plt.xlabel('n_features')\n",
        "plt.ylabel('AUC')\n",
        "plt.legend(loc=\"lower right\")\n",
        "plt.savefig(\"gp_featgen.png\")\n",
        "\n",
        "# 生成した構文木の出力\n",
        "print()\n",
        "print(\"### Generated feature expression\")\n",
        "for expr in exprs:\n",
        "    print(expr)"
      ],
      "execution_count": null,
      "outputs": []
    }
  ]
}