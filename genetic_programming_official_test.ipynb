{
  "nbformat": 4,
  "nbformat_minor": 0,
  "metadata": {
    "colab": {
      "name": "genetic_programming_official_test.ipynb",
      "provenance": [],
      "collapsed_sections": [],
      "toc_visible": true,
      "include_colab_link": true
    },
    "kernelspec": {
      "name": "python3",
      "display_name": "Python 3",
      "language": "python"
    },
    "language_info": {
      "name": "python",
      "version": "3.8.5-final"
    },
    "accelerator": "GPU"
  },
  "cells": [
    {
      "cell_type": "markdown",
      "metadata": {
        "id": "view-in-github",
        "colab_type": "text"
      },
      "source": [
        "<a href=\"https://colab.research.google.com/github/Amplil/genetic_programming/blob/master/genetic_programming_official_test.ipynb\" target=\"_parent\"><img src=\"https://colab.research.google.com/assets/colab-badge.svg\" alt=\"Open In Colab\"/></a>"
      ]
    },
    {
      "cell_type": "code",
      "metadata": {
        "id": "9yiWtz78JU_W"
      },
      "source": [
        "# !pip install --target \"/content/drive/MyDrive/Colab Notebooks/packages\" deap"
      ],
      "execution_count": null,
      "outputs": []
    },
    {
      "cell_type": "code",
      "metadata": {
        "id": "2Y0s1SNsMdvV",
        "outputId": "1d69347c-2504-4a8a-8675-6a6319803c77"
      },
      "source": [
        "# !pip install deap"
      ],
      "execution_count": null,
      "outputs": [
        {
          "output_type": "stream",
          "text": [
            "Collecting deap\n",
            "  Downloading deap-1.3.1-cp38-cp38-win_amd64.whl (108 kB)\n",
            "Requirement already satisfied: numpy in c:\\users\\hara\\anaconda3\\lib\\site-packages (from deap) (1.19.2)\n",
            "Installing collected packages: deap\n",
            "Successfully installed deap-1.3.1\n"
          ],
          "name": "stdout"
        }
      ]
    },
    {
      "cell_type": "code",
      "metadata": {
        "colab": {
          "base_uri": "https://localhost:8080/"
        },
        "id": "dBLs4Rz5hpsh",
        "outputId": "7034c655-932f-43ee-c180-dd0dd88c8ae6"
      },
      "source": [
        "!apt-get install -y graphviz-dev"
      ],
      "execution_count": null,
      "outputs": [
        {
          "output_type": "stream",
          "text": [
            "'apt-get' �́A�����R�}���h�܂��͊O���R�}���h�A\n",
            "����\\�ȃv���O�����܂��̓o�b�` �t�@�C���Ƃ��ĔF������Ă��܂���B\n",
            "Collecting pygraphviz\n",
            "  Using cached pygraphviz-1.7.zip (118 kB)\n",
            "Building wheels for collected packages: pygraphviz\n",
            "  Building wheel for pygraphviz (setup.py): started\n",
            "  Building wheel for pygraphviz (setup.py): finished with status 'error'\n",
            "  Running setup.py clean for pygraphviz\n",
            "Failed to build pygraphviz\n",
            "Installing collected packages: pygraphviz\n",
            "    Running setup.py install for pygraphviz: started\n",
            "    Running setup.py install for pygraphviz: finished with status 'error'\n",
            "  ERROR: Command errored out with exit status 1:\n",
            "   command: 'C:\\Users\\hara\\anaconda3\\python.exe' -u -c 'import sys, setuptools, tokenize; sys.argv[0] = '\"'\"'C:\\\\Users\\\\hara\\\\AppData\\\\Local\\\\Temp\\\\pip-install-7yn56f96\\\\pygraphviz_34b45df21dee4b5ab459e8bc5e1c5129\\\\setup.py'\"'\"'; __file__='\"'\"'C:\\\\Users\\\\hara\\\\AppData\\\\Local\\\\Temp\\\\pip-install-7yn56f96\\\\pygraphviz_34b45df21dee4b5ab459e8bc5e1c5129\\\\setup.py'\"'\"';f=getattr(tokenize, '\"'\"'open'\"'\"', open)(__file__);code=f.read().replace('\"'\"'\\r\\n'\"'\"', '\"'\"'\\n'\"'\"');f.close();exec(compile(code, __file__, '\"'\"'exec'\"'\"'))' bdist_wheel -d 'C:\\Users\\hara\\AppData\\Local\\Temp\\pip-wheel-wpgtu1x3'\n",
            "       cwd: C:\\Users\\hara\\AppData\\Local\\Temp\\pip-install-7yn56f96\\pygraphviz_34b45df21dee4b5ab459e8bc5e1c5129\\\n",
            "  Complete output (46 lines):\n",
            "  running bdist_wheel\n",
            "  running build\n",
            "  running build_py\n",
            "  creating build\n",
            "  creating build\\lib.win-amd64-3.8\n",
            "  creating build\\lib.win-amd64-3.8\\pygraphviz\n",
            "  copying pygraphviz\\agraph.py -> build\\lib.win-amd64-3.8\\pygraphviz\n",
            "  copying pygraphviz\\graphviz.py -> build\\lib.win-amd64-3.8\\pygraphviz\n",
            "  copying pygraphviz\\scraper.py -> build\\lib.win-amd64-3.8\\pygraphviz\n",
            "  copying pygraphviz\\testing.py -> build\\lib.win-amd64-3.8\\pygraphviz\n",
            "  copying pygraphviz\\__init__.py -> build\\lib.win-amd64-3.8\\pygraphviz\n",
            "  creating build\\lib.win-amd64-3.8\\pygraphviz\\tests\n",
            "  copying pygraphviz\\tests\\test_attribute_defaults.py -> build\\lib.win-amd64-3.8\\pygraphviz\\tests\n",
            "  copying pygraphviz\\tests\\test_clear.py -> build\\lib.win-amd64-3.8\\pygraphviz\\tests\n",
            "  copying pygraphviz\\tests\\test_close.py -> build\\lib.win-amd64-3.8\\pygraphviz\\tests\n",
            "  copying pygraphviz\\tests\\test_drawing.py -> build\\lib.win-amd64-3.8\\pygraphviz\\tests\n",
            "  copying pygraphviz\\tests\\test_edge_attributes.py -> build\\lib.win-amd64-3.8\\pygraphviz\\tests\n",
            "  copying pygraphviz\\tests\\test_graph.py -> build\\lib.win-amd64-3.8\\pygraphviz\\tests\n",
            "  copying pygraphviz\\tests\\test_html.py -> build\\lib.win-amd64-3.8\\pygraphviz\\tests\n",
            "  copying pygraphviz\\tests\\test_layout.py -> build\\lib.win-amd64-3.8\\pygraphviz\\tests\n",
            "  copying pygraphviz\\tests\\test_node_attributes.py -> build\\lib.win-amd64-3.8\\pygraphviz\\tests\n",
            "  copying pygraphviz\\tests\\test_readwrite.py -> build\\lib.win-amd64-3.8\\pygraphviz\\tests\n",
            "  copying pygraphviz\\tests\\test_scraper.py -> build\\lib.win-amd64-3.8\\pygraphviz\\tests\n",
            "  copying pygraphviz\\tests\\test_string.py -> build\\lib.win-amd64-3.8\\pygraphviz\\tests\n",
            "  copying pygraphviz\\tests\\test_subgraph.py -> build\\lib.win-amd64-3.8\\pygraphviz\\tests\n",
            "  copying pygraphviz\\tests\\test_unicode.py -> build\\lib.win-amd64-3.8\\pygraphviz\\tests\n",
            "  copying pygraphviz\\tests\\__init__.py -> build\\lib.win-amd64-3.8\\pygraphviz\\tests\n",
            "  running egg_info\n",
            "  writing pygraphviz.egg-info\\PKG-INFO\n",
            "  writing dependency_links to pygraphviz.egg-info\\dependency_links.txt\n",
            "  writing top-level names to pygraphviz.egg-info\\top_level.txt\n",
            "  reading manifest file 'pygraphviz.egg-info\\SOURCES.txt'\n",
            "  reading manifest template 'MANIFEST.in'\n",
            "  warning: no files found matching '*.png' under directory 'doc'\n",
            "  warning: no files found matching '*.txt' under directory 'doc'\n",
            "  warning: no files found matching '*.css' under directory 'doc'\n",
            "  warning: no previously-included files matching '*~' found anywhere in distribution\n",
            "  warning: no previously-included files matching '*.pyc' found anywhere in distribution\n",
            "  warning: no previously-included files matching '.svn' found anywhere in distribution\n",
            "  no previously-included directories found matching 'doc\\build'\n",
            "  writing manifest file 'pygraphviz.egg-info\\SOURCES.txt'\n",
            "  copying pygraphviz\\graphviz.i -> build\\lib.win-amd64-3.8\\pygraphviz\n",
            "  copying pygraphviz\\graphviz_wrap.c -> build\\lib.win-amd64-3.8\\pygraphviz\n",
            "  running build_ext\n",
            "  building 'pygraphviz._graphviz' extension\n",
            "  error: Microsoft Visual C++ 14.0 or greater is required. Get it with \"Microsoft C++ Build Tools\": https://visualstudio.microsoft.com/visual-cpp-build-tools/\n",
            "  ----------------------------------------\n",
            "  ERROR: Failed building wheel for pygraphviz\n",
            "    ERROR: Command errored out with exit status 1:\n",
            "     command: 'C:\\Users\\hara\\anaconda3\\python.exe' -u -c 'import sys, setuptools, tokenize; sys.argv[0] = '\"'\"'C:\\\\Users\\\\hara\\\\AppData\\\\Local\\\\Temp\\\\pip-install-7yn56f96\\\\pygraphviz_34b45df21dee4b5ab459e8bc5e1c5129\\\\setup.py'\"'\"'; __file__='\"'\"'C:\\\\Users\\\\hara\\\\AppData\\\\Local\\\\Temp\\\\pip-install-7yn56f96\\\\pygraphviz_34b45df21dee4b5ab459e8bc5e1c5129\\\\setup.py'\"'\"';f=getattr(tokenize, '\"'\"'open'\"'\"', open)(__file__);code=f.read().replace('\"'\"'\\r\\n'\"'\"', '\"'\"'\\n'\"'\"');f.close();exec(compile(code, __file__, '\"'\"'exec'\"'\"'))' install --record 'C:\\Users\\hara\\AppData\\Local\\Temp\\pip-record-uef7tc6b\\install-record.txt' --single-version-externally-managed --home 'C:\\Users\\hara\\AppData\\Local\\Temp\\pip-target-bwcxpygi' --compile --install-headers 'C:\\Users\\hara\\AppData\\Local\\Temp\\pip-target-bwcxpygi\\include\\python\\pygraphviz'\n",
            "         cwd: C:\\Users\\hara\\AppData\\Local\\Temp\\pip-install-7yn56f96\\pygraphviz_34b45df21dee4b5ab459e8bc5e1c5129\\\n",
            "    Complete output (46 lines):\n",
            "    running install\n",
            "    running build\n",
            "    running build_py\n",
            "    creating build\n",
            "    creating build\\lib.win-amd64-3.8\n",
            "    creating build\\lib.win-amd64-3.8\\pygraphviz\n",
            "    copying pygraphviz\\agraph.py -> build\\lib.win-amd64-3.8\\pygraphviz\n",
            "    copying pygraphviz\\graphviz.py -> build\\lib.win-amd64-3.8\\pygraphviz\n",
            "    copying pygraphviz\\scraper.py -> build\\lib.win-amd64-3.8\\pygraphviz\n",
            "    copying pygraphviz\\testing.py -> build\\lib.win-amd64-3.8\\pygraphviz\n",
            "    copying pygraphviz\\__init__.py -> build\\lib.win-amd64-3.8\\pygraphviz\n",
            "    creating build\\lib.win-amd64-3.8\\pygraphviz\\tests\n",
            "    copying pygraphviz\\tests\\test_attribute_defaults.py -> build\\lib.win-amd64-3.8\\pygraphviz\\tests\n",
            "    copying pygraphviz\\tests\\test_clear.py -> build\\lib.win-amd64-3.8\\pygraphviz\\tests\n",
            "    copying pygraphviz\\tests\\test_close.py -> build\\lib.win-amd64-3.8\\pygraphviz\\tests\n",
            "    copying pygraphviz\\tests\\test_drawing.py -> build\\lib.win-amd64-3.8\\pygraphviz\\tests\n",
            "    copying pygraphviz\\tests\\test_edge_attributes.py -> build\\lib.win-amd64-3.8\\pygraphviz\\tests\n",
            "    copying pygraphviz\\tests\\test_graph.py -> build\\lib.win-amd64-3.8\\pygraphviz\\tests\n",
            "    copying pygraphviz\\tests\\test_html.py -> build\\lib.win-amd64-3.8\\pygraphviz\\tests\n",
            "    copying pygraphviz\\tests\\test_layout.py -> build\\lib.win-amd64-3.8\\pygraphviz\\tests\n",
            "    copying pygraphviz\\tests\\test_node_attributes.py -> build\\lib.win-amd64-3.8\\pygraphviz\\tests\n",
            "    copying pygraphviz\\tests\\test_readwrite.py -> build\\lib.win-amd64-3.8\\pygraphviz\\tests\n",
            "    copying pygraphviz\\tests\\test_scraper.py -> build\\lib.win-amd64-3.8\\pygraphviz\\tests\n",
            "    copying pygraphviz\\tests\\test_string.py -> build\\lib.win-amd64-3.8\\pygraphviz\\tests\n",
            "    copying pygraphviz\\tests\\test_subgraph.py -> build\\lib.win-amd64-3.8\\pygraphviz\\tests\n",
            "    copying pygraphviz\\tests\\test_unicode.py -> build\\lib.win-amd64-3.8\\pygraphviz\\tests\n",
            "    copying pygraphviz\\tests\\__init__.py -> build\\lib.win-amd64-3.8\\pygraphviz\\tests\n",
            "    running egg_info\n",
            "    writing pygraphviz.egg-info\\PKG-INFO\n",
            "    writing dependency_links to pygraphviz.egg-info\\dependency_links.txt\n",
            "    writing top-level names to pygraphviz.egg-info\\top_level.txt\n",
            "    reading manifest file 'pygraphviz.egg-info\\SOURCES.txt'\n",
            "    reading manifest template 'MANIFEST.in'\n",
            "    warning: no files found matching '*.png' under directory 'doc'\n",
            "    warning: no files found matching '*.txt' under directory 'doc'\n",
            "    warning: no files found matching '*.css' under directory 'doc'\n",
            "    warning: no previously-included files matching '*~' found anywhere in distribution\n",
            "    warning: no previously-included files matching '*.pyc' found anywhere in distribution\n",
            "    warning: no previously-included files matching '.svn' found anywhere in distribution\n",
            "    no previously-included directories found matching 'doc\\build'\n",
            "    writing manifest file 'pygraphviz.egg-info\\SOURCES.txt'\n",
            "    copying pygraphviz\\graphviz.i -> build\\lib.win-amd64-3.8\\pygraphviz\n",
            "    copying pygraphviz\\graphviz_wrap.c -> build\\lib.win-amd64-3.8\\pygraphviz\n",
            "    running build_ext\n",
            "    building 'pygraphviz._graphviz' extension\n",
            "    error: Microsoft Visual C++ 14.0 or greater is required. Get it with \"Microsoft C++ Build Tools\": https://visualstudio.microsoft.com/visual-cpp-build-tools/\n",
            "    ----------------------------------------\n",
            "ERROR: Command errored out with exit status 1: 'C:\\Users\\hara\\anaconda3\\python.exe' -u -c 'import sys, setuptools, tokenize; sys.argv[0] = '\"'\"'C:\\\\Users\\\\hara\\\\AppData\\\\Local\\\\Temp\\\\pip-install-7yn56f96\\\\pygraphviz_34b45df21dee4b5ab459e8bc5e1c5129\\\\setup.py'\"'\"'; __file__='\"'\"'C:\\\\Users\\\\hara\\\\AppData\\\\Local\\\\Temp\\\\pip-install-7yn56f96\\\\pygraphviz_34b45df21dee4b5ab459e8bc5e1c5129\\\\setup.py'\"'\"';f=getattr(tokenize, '\"'\"'open'\"'\"', open)(__file__);code=f.read().replace('\"'\"'\\r\\n'\"'\"', '\"'\"'\\n'\"'\"');f.close();exec(compile(code, __file__, '\"'\"'exec'\"'\"'))' install --record 'C:\\Users\\hara\\AppData\\Local\\Temp\\pip-record-uef7tc6b\\install-record.txt' --single-version-externally-managed --home 'C:\\Users\\hara\\AppData\\Local\\Temp\\pip-target-bwcxpygi' --compile --install-headers 'C:\\Users\\hara\\AppData\\Local\\Temp\\pip-target-bwcxpygi\\include\\python\\pygraphviz' Check the logs for full command output.\n"
          ],
          "name": "stderr"
        }
      ]
    },
    {
      "cell_type": "code",
      "metadata": {
        "colab": {
          "base_uri": "https://localhost:8080/"
        },
        "id": "7ox_hAdkNOvK",
        "outputId": "f8648522-9e32-4b04-ab16-4536f7b6902a"
      },
      "source": [
        "from google.colab import drive\n",
        "drive.mount('/content/drive')"
      ],
      "execution_count": 1,
      "outputs": [
        {
          "output_type": "stream",
          "text": [
            "Mounted at /content/drive\n"
          ],
          "name": "stdout"
        }
      ]
    },
    {
      "cell_type": "code",
      "metadata": {
        "colab": {
          "base_uri": "https://localhost:8080/"
        },
        "id": "yiaDdOG620J_",
        "outputId": "a970dc69-5738-42be-c5f1-4db8839f7b57"
      },
      "source": [
        "!pip install --target \"/content/drive/MyDrive/Colab Notebooks/packages\" pygraphviz"
      ],
      "execution_count": null,
      "outputs": [
        {
          "output_type": "stream",
          "text": [
            "^C\n"
          ],
          "name": "stdout"
        }
      ]
    },
    {
      "cell_type": "code",
      "metadata": {
        "id": "A0Bi24O4JJJe"
      },
      "source": [
        "import sys\n",
        "sys.path.append(\"/content/drive/MyDrive/Colab Notebooks/packages\")"
      ],
      "execution_count": 2,
      "outputs": []
    },
    {
      "cell_type": "code",
      "metadata": {
        "id": "9h0G1SvUIbFe"
      },
      "source": [
        "import operator, math, random, time\n",
        "import numpy as np\n",
        "\n",
        "from deap import algorithms, base, creator, tools, gp\n",
        "\n",
        "from sklearn.datasets import make_classification\n",
        "from sklearn.model_selection import train_test_split, cross_val_score\n",
        "from sklearn.linear_model import LogisticRegression\n",
        "from sklearn.metrics import roc_auc_score, log_loss\n",
        "\n",
        "import matplotlib.pyplot as plt\n",
        "\n",
        "### Graphviz Section ###\n",
        "import pygraphviz as pgv\n",
        "\n",
        "import networkx as nx"
      ],
      "execution_count": 3,
      "outputs": []
    },
    {
      "cell_type": "markdown",
      "metadata": {
        "id": "eo1w71DVt3J_"
      },
      "source": [
        "# [公式ドキュメントGenetic Programming](https://deap.readthedocs.io/en/master/tutorials/advanced/gp.html)のテスト"
      ]
    },
    {
      "cell_type": "code",
      "metadata": {
        "id": "QJ_FzFZ8uNsZ"
      },
      "source": [
        "pset = gp.PrimitiveSet(\"main\", 2)\n",
        "pset.addPrimitive(max, 2)\n",
        "pset.addPrimitive(operator.add, 2)\n",
        "pset.addPrimitive(operator.mul, 2)\n",
        "pset.addTerminal(3)"
      ],
      "execution_count": 14,
      "outputs": []
    },
    {
      "cell_type": "code",
      "metadata": {
        "id": "HUp51lK7ve7J"
      },
      "source": [
        "pset.renameArguments(ARG0=\"x\")\n",
        "pset.renameArguments(ARG1=\"y\")"
      ],
      "execution_count": 15,
      "outputs": []
    },
    {
      "cell_type": "code",
      "metadata": {
        "id": "UT0mqXXfv8bH"
      },
      "source": [
        "pset.addPrimitive(operator.neg, 1)"
      ],
      "execution_count": 16,
      "outputs": []
    },
    {
      "cell_type": "code",
      "metadata": {
        "id": "_PCsWfUU0qEO"
      },
      "source": [
        "expr = gp.genFull(pset, min_=1, max_=3)\n",
        "tree = gp.PrimitiveTree(expr)"
      ],
      "execution_count": 17,
      "outputs": []
    },
    {
      "cell_type": "code",
      "metadata": {
        "colab": {
          "base_uri": "https://localhost:8080/"
        },
        "id": "Yk7Q7PUX08Iw",
        "outputId": "c55060d7-2c53-49c4-9232-c5da8fac71ae"
      },
      "source": [
        "tree"
      ],
      "execution_count": 18,
      "outputs": [
        {
          "output_type": "execute_result",
          "data": {
            "text/plain": [
              "[<deap.gp.Primitive at 0x7f795818da70>,\n",
              " <deap.gp.Terminal at 0x7f7958183b40>,\n",
              " <deap.gp.Terminal at 0x7f7958183c30>]"
            ]
          },
          "metadata": {
            "tags": []
          },
          "execution_count": 18
        }
      ]
    },
    {
      "cell_type": "code",
      "metadata": {
        "id": "d17Zpw712LCH"
      },
      "source": [
        "pset = gp.PrimitiveSet(\"MAIN\", 1)\n",
        "pset.addPrimitive(operator.add, 2)\n",
        "pset.addPrimitive(operator.sub, 2)\n",
        "pset.addPrimitive(operator.mul, 2)\n",
        "pset.renameArguments(ARG0='x')\n",
        "\n",
        "creator.create(\"Individual\", gp.PrimitiveTree)\n",
        "\n",
        "toolbox = base.Toolbox()\n",
        "toolbox.register(\"expr\", gp.genHalfAndHalf, pset=pset, min_=1, max_=2)\n",
        "toolbox.register(\"individual\", tools.initIterate, creator.Individual, toolbox.expr)\n",
        "\n",
        "expr = toolbox.individual()\n",
        "nodes, edges, labels = gp.graph(expr)"
      ],
      "execution_count": 9,
      "outputs": []
    },
    {
      "cell_type": "code",
      "metadata": {
        "id": "0Fp-Q40SMdvd"
      },
      "source": [
        "\"\"\"\n",
        "g = pgv.AGraph()\n",
        "g.add_nodes_from(nodes)\n",
        "g.add_edges_from(edges)\n",
        "g.layout(prog=\"dot\")\n",
        "\n",
        "for i in nodes:\n",
        "    n = g.get_node(i)\n",
        "    n.attr[\"label\"] = labels[i]\n",
        "\n",
        "g.draw(\"tree.pdf\")\n",
        "\"\"\""
      ],
      "execution_count": 12,
      "outputs": []
    },
    {
      "cell_type": "code",
      "metadata": {
        "id": "caLwJXmuMdvg",
        "colab": {
          "base_uri": "https://localhost:8080/"
        },
        "outputId": "4d7e68e4-c939-4733-9995-aa3b096bcd41"
      },
      "source": [
        "labels"
      ],
      "execution_count": 19,
      "outputs": [
        {
          "output_type": "execute_result",
          "data": {
            "text/plain": [
              "{0: 'mul', 1: 'sub', 2: 'x', 3: 'x', 4: 'sub', 5: 'x', 6: 'x'}"
            ]
          },
          "metadata": {
            "tags": []
          },
          "execution_count": 19
        }
      ]
    },
    {
      "cell_type": "code",
      "metadata": {
        "id": "n3t64fO9Mdvi",
        "colab": {
          "base_uri": "https://localhost:8080/",
          "height": 248
        },
        "outputId": "a3b3858d-1fa0-4450-8a4f-b72baace59e4"
      },
      "source": [
        "g = nx.DiGraph()\n",
        "g.add_nodes_from(nodes)\n",
        "g.add_edges_from(edges)\n",
        "\n",
        "pos=nx.spring_layout(g)\n",
        "nx.draw_networkx_edges(g,pos)\n",
        "nx.draw_networkx_labels(g,pos,labels)\n",
        "plt.show()"
      ],
      "execution_count": 20,
      "outputs": [
        {
          "output_type": "display_data",
          "data": {
            "image/png": "[encoded data removed]",
            "text/plain": [
              "<Figure size 432x288 with 1 Axes>"
            ]
          },
          "metadata": {
            "tags": []
          }
        }
      ]
    },
    {
      "cell_type": "markdown",
      "metadata": {
        "id": "Xq04gGrUMdvj"
      },
      "source": [
        "# Even-Parity Problem"
      ]
    },
    {
      "cell_type": "code",
      "metadata": {
        "id": "RiqBxrJ-Mdvj"
      },
      "source": [
        ""
      ],
      "execution_count": null,
      "outputs": []
    }
  ]
}